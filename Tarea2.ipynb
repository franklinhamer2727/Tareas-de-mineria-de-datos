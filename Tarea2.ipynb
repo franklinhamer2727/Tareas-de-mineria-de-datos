{
  "nbformat": 4,
  "nbformat_minor": 0,
  "metadata": {
    "colab": {
      "name": "Tarea2.ipynb",
      "provenance": [],
      "collapsed_sections": [
        "TMVySUQhbHI9"
      ]
    },
    "kernelspec": {
      "name": "python3",
      "display_name": "Python 3"
    },
    "language_info": {
      "name": "python"
    }
  },
  "cells": [
    {
      "cell_type": "markdown",
      "metadata": {
        "id": "rVKd5YjbnKE9"
      },
      "source": [
        "Se tiene 3 crupos de datos las cuales generan una serie de datos compuestos por nombres y apellidos, Estos datos son tratados de la foma que  todos sean diferentes, cad auno cuenta con un unico ID y con una clase, la cual sera su etiqueta principal por grupo\n",
        "\n",
        "Nuestro estudio consiste en analizar en primera: El porcentaje de una clase en una muestra de 75% de la union de klas muestras, segundo: El analisis de datos que que tenga dos elementos repetidos, tercero: realizar un garfico de barras con la finalidad de indicar( cxuantas personas posiblementes ean hermanos porque compraten los mismos apellidos) van acompañadops de un mismo apellido"
      ]
    },
    {
      "cell_type": "code",
      "metadata": {
        "id": "tSPtUSM6frI1"
      },
      "source": [
        "#Importamos las librerias necesarias par el tratamiento de datos\n",
        "import pandas as pd\n",
        "from itertools import permutations\n",
        "import uuid\n",
        "import random"
      ],
      "execution_count": 1,
      "outputs": []
    },
    {
      "cell_type": "code",
      "metadata": {
        "id": "KqyOCZ9ndbv8",
        "colab": {
          "base_uri": "https://localhost:8080/",
          "height": 206
        },
        "outputId": "18e1ccc3-2e85-4f1b-df7c-e08f121fd305"
      },
      "source": [
        "#Creamos un diccionario de 5 personas \n",
        "section_A ={'Nombre1':['Maria', 'Lorena','Josue','Mario','Drey'],\n",
        "            'Nombre2':['Ali','sebastian','pedro','maritza','Marck'],\n",
        "            'Apellido1':['cole','blount','gaskell','dove','Jara'],\n",
        "            'Apellido2':['bixby','dent','gabriel', 'keswick','Ocas']\n",
        "            }\n",
        "dataA= pd.DataFrame(section_A)    \n",
        "dataA       "
      ],
      "execution_count": 2,
      "outputs": [
        {
          "output_type": "execute_result",
          "data": {
            "text/html": [
              "<div>\n",
              "<style scoped>\n",
              "    .dataframe tbody tr th:only-of-type {\n",
              "        vertical-align: middle;\n",
              "    }\n",
              "\n",
              "    .dataframe tbody tr th {\n",
              "        vertical-align: top;\n",
              "    }\n",
              "\n",
              "    .dataframe thead th {\n",
              "        text-align: right;\n",
              "    }\n",
              "</style>\n",
              "<table border=\"1\" class=\"dataframe\">\n",
              "  <thead>\n",
              "    <tr style=\"text-align: right;\">\n",
              "      <th></th>\n",
              "      <th>Nombre1</th>\n",
              "      <th>Nombre2</th>\n",
              "      <th>Apellido1</th>\n",
              "      <th>Apellido2</th>\n",
              "    </tr>\n",
              "  </thead>\n",
              "  <tbody>\n",
              "    <tr>\n",
              "      <th>0</th>\n",
              "      <td>Maria</td>\n",
              "      <td>Ali</td>\n",
              "      <td>cole</td>\n",
              "      <td>bixby</td>\n",
              "    </tr>\n",
              "    <tr>\n",
              "      <th>1</th>\n",
              "      <td>Lorena</td>\n",
              "      <td>sebastian</td>\n",
              "      <td>blount</td>\n",
              "      <td>dent</td>\n",
              "    </tr>\n",
              "    <tr>\n",
              "      <th>2</th>\n",
              "      <td>Josue</td>\n",
              "      <td>pedro</td>\n",
              "      <td>gaskell</td>\n",
              "      <td>gabriel</td>\n",
              "    </tr>\n",
              "    <tr>\n",
              "      <th>3</th>\n",
              "      <td>Mario</td>\n",
              "      <td>maritza</td>\n",
              "      <td>dove</td>\n",
              "      <td>keswick</td>\n",
              "    </tr>\n",
              "    <tr>\n",
              "      <th>4</th>\n",
              "      <td>Drey</td>\n",
              "      <td>Marck</td>\n",
              "      <td>Jara</td>\n",
              "      <td>Ocas</td>\n",
              "    </tr>\n",
              "  </tbody>\n",
              "</table>\n",
              "</div>"
            ],
            "text/plain": [
              "  Nombre1    Nombre2 Apellido1 Apellido2\n",
              "0   Maria        Ali      cole     bixby\n",
              "1  Lorena  sebastian    blount      dent\n",
              "2   Josue      pedro   gaskell   gabriel\n",
              "3   Mario    maritza      dove   keswick\n",
              "4    Drey      Marck      Jara      Ocas"
            ]
          },
          "metadata": {},
          "execution_count": 2
        }
      ]
    },
    {
      "cell_type": "code",
      "metadata": {
        "colab": {
          "base_uri": "https://localhost:8080/"
        },
        "id": "Nj_WobDTgWDY",
        "outputId": "496e5c69-2e75-454f-f3c8-1281607e991d"
      },
      "source": [
        "#realizamos lapermiutacion de los nombres y creamos el id de cada permitacion\n",
        "random_name = list(permutations(pd.concat([dataA['Nombre1'],dataA['Nombre2']]),2))\n",
        "random_surname = list(permutations(pd.concat([dataA['Apellido1'],dataA['Apellido2']]),2))\n",
        "array_a = [[nombre[0],nombre[1],apellido[0],apellido[1]] for nombre in random_name for apellido in random_surname]\n",
        "df_section_A = pd.DataFrame(data= array_a, columns=['Nombre1','Nombre2','Apellido1','Apellido2'])\n",
        "df_section_A['id']=uuid.uuid4()\n",
        "df_section_A['clase'] = 'a'\n",
        "df_section_A.set_index('id',inplace =False)\n",
        "df_section_A.info()\n"
      ],
      "execution_count": 8,
      "outputs": [
        {
          "output_type": "stream",
          "name": "stdout",
          "text": [
            "<class 'pandas.core.frame.DataFrame'>\n",
            "RangeIndex: 8100 entries, 0 to 8099\n",
            "Data columns (total 6 columns):\n",
            " #   Column     Non-Null Count  Dtype \n",
            "---  ------     --------------  ----- \n",
            " 0   Nombre1    8100 non-null   object\n",
            " 1   Nombre2    8100 non-null   object\n",
            " 2   Apellido1  8100 non-null   object\n",
            " 3   Apellido2  8100 non-null   object\n",
            " 4   id         8100 non-null   object\n",
            " 5   clase      8100 non-null   object\n",
            "dtypes: object(6)\n",
            "memory usage: 379.8+ KB\n"
          ]
        }
      ]
    },
    {
      "cell_type": "code",
      "metadata": {
        "id": "0QLwRv_enYrH",
        "colab": {
          "base_uri": "https://localhost:8080/"
        },
        "outputId": "5f8ba929-ba2a-4e91-f790-6fba985a81e8"
      },
      "source": [
        "section_B ={'Nombre1':['Mina', 'beatriz','karol','ivan','teresa','tina'],\n",
        "            'Nombre2':['juan','javier','pepe','piero','lana','fiorela'],\n",
        "            'Apellido1':['conley', 'stacey', 'stevanson','garvey', 'laing', 'bleasdell'],\n",
        "            'Apellido2':['hipp', 'warwick', 'fane' ,'hands', 'kirkwood',' davoren']\n",
        "            }\n",
        "dataB= pd.DataFrame(section_B)    \n",
        "dataB.info()     "
      ],
      "execution_count": 9,
      "outputs": [
        {
          "output_type": "stream",
          "name": "stdout",
          "text": [
            "<class 'pandas.core.frame.DataFrame'>\n",
            "RangeIndex: 6 entries, 0 to 5\n",
            "Data columns (total 4 columns):\n",
            " #   Column     Non-Null Count  Dtype \n",
            "---  ------     --------------  ----- \n",
            " 0   Nombre1    6 non-null      object\n",
            " 1   Nombre2    6 non-null      object\n",
            " 2   Apellido1  6 non-null      object\n",
            " 3   Apellido2  6 non-null      object\n",
            "dtypes: object(4)\n",
            "memory usage: 320.0+ bytes\n"
          ]
        }
      ]
    },
    {
      "cell_type": "code",
      "metadata": {
        "colab": {
          "base_uri": "https://localhost:8080/"
        },
        "id": "1HUxKhudqe77",
        "outputId": "99e32e77-496e-47bf-f550-048f5e1eac6a"
      },
      "source": [
        "random_name = list(permutations(pd.concat([dataB['Nombre1'],dataB['Nombre2']]),2))\n",
        "random_surname = list(permutations(pd.concat([dataB['Apellido1'],dataB['Apellido2']]),2))\n",
        "array_b = [[nombre[0],nombre[1],apellido[0],apellido[1]] for nombre in random_name for apellido in random_surname]\n",
        "df_section_B = pd.DataFrame(data= array_b, columns=['Nombre1','Nombre2','Apellido1','Apellido2'])\n",
        "df_section_B['id']=uuid.uuid4()\n",
        "df_section_B['clase'] = 'b'\n",
        "df_section_B.set_index('id',inplace =False)\n",
        "df_section_B.info()"
      ],
      "execution_count": 10,
      "outputs": [
        {
          "output_type": "stream",
          "name": "stdout",
          "text": [
            "<class 'pandas.core.frame.DataFrame'>\n",
            "RangeIndex: 17424 entries, 0 to 17423\n",
            "Data columns (total 6 columns):\n",
            " #   Column     Non-Null Count  Dtype \n",
            "---  ------     --------------  ----- \n",
            " 0   Nombre1    17424 non-null  object\n",
            " 1   Nombre2    17424 non-null  object\n",
            " 2   Apellido1  17424 non-null  object\n",
            " 3   Apellido2  17424 non-null  object\n",
            " 4   id         17424 non-null  object\n",
            " 5   clase      17424 non-null  object\n",
            "dtypes: object(6)\n",
            "memory usage: 816.9+ KB\n"
          ]
        }
      ]
    },
    {
      "cell_type": "code",
      "metadata": {
        "id": "PtjVJHzVoxbD",
        "colab": {
          "base_uri": "https://localhost:8080/",
          "height": 238
        },
        "outputId": "a6032706-61be-4337-980a-7a912d166944"
      },
      "source": [
        "section_C ={'Nombre1':[' Agnese','Agostina','Agueda','Agustina','Aida','Aidée'],\n",
        "            'Nombre2':['Ancor','André','Andreas','Andrés','Andrew','Andy'],\n",
        "            'Apellido1':['stephenson', 'buckanan', 'locke', 'cole', 'blount', 'gaskell'],\n",
        "            'Apellido2':['geldart','nordyke' ,'mckitrick' ,'wetherill' ,'cottrill', 'park']\n",
        "            }\n",
        "dataC= pd.DataFrame(section_C)    \n",
        "dataC      "
      ],
      "execution_count": 12,
      "outputs": [
        {
          "output_type": "execute_result",
          "data": {
            "text/html": [
              "<div>\n",
              "<style scoped>\n",
              "    .dataframe tbody tr th:only-of-type {\n",
              "        vertical-align: middle;\n",
              "    }\n",
              "\n",
              "    .dataframe tbody tr th {\n",
              "        vertical-align: top;\n",
              "    }\n",
              "\n",
              "    .dataframe thead th {\n",
              "        text-align: right;\n",
              "    }\n",
              "</style>\n",
              "<table border=\"1\" class=\"dataframe\">\n",
              "  <thead>\n",
              "    <tr style=\"text-align: right;\">\n",
              "      <th></th>\n",
              "      <th>Nombre1</th>\n",
              "      <th>Nombre2</th>\n",
              "      <th>Apellido1</th>\n",
              "      <th>Apellido2</th>\n",
              "    </tr>\n",
              "  </thead>\n",
              "  <tbody>\n",
              "    <tr>\n",
              "      <th>0</th>\n",
              "      <td>Agnese</td>\n",
              "      <td>Ancor</td>\n",
              "      <td>stephenson</td>\n",
              "      <td>geldart</td>\n",
              "    </tr>\n",
              "    <tr>\n",
              "      <th>1</th>\n",
              "      <td>Agostina</td>\n",
              "      <td>André</td>\n",
              "      <td>buckanan</td>\n",
              "      <td>nordyke</td>\n",
              "    </tr>\n",
              "    <tr>\n",
              "      <th>2</th>\n",
              "      <td>Agueda</td>\n",
              "      <td>Andreas</td>\n",
              "      <td>locke</td>\n",
              "      <td>mckitrick</td>\n",
              "    </tr>\n",
              "    <tr>\n",
              "      <th>3</th>\n",
              "      <td>Agustina</td>\n",
              "      <td>Andrés</td>\n",
              "      <td>cole</td>\n",
              "      <td>wetherill</td>\n",
              "    </tr>\n",
              "    <tr>\n",
              "      <th>4</th>\n",
              "      <td>Aida</td>\n",
              "      <td>Andrew</td>\n",
              "      <td>blount</td>\n",
              "      <td>cottrill</td>\n",
              "    </tr>\n",
              "    <tr>\n",
              "      <th>5</th>\n",
              "      <td>Aidée</td>\n",
              "      <td>Andy</td>\n",
              "      <td>gaskell</td>\n",
              "      <td>park</td>\n",
              "    </tr>\n",
              "  </tbody>\n",
              "</table>\n",
              "</div>"
            ],
            "text/plain": [
              "    Nombre1  Nombre2   Apellido1  Apellido2\n",
              "0    Agnese    Ancor  stephenson    geldart\n",
              "1  Agostina    André    buckanan    nordyke\n",
              "2    Agueda  Andreas       locke  mckitrick\n",
              "3  Agustina   Andrés        cole  wetherill\n",
              "4      Aida   Andrew      blount   cottrill\n",
              "5     Aidée     Andy     gaskell       park"
            ]
          },
          "metadata": {},
          "execution_count": 12
        }
      ]
    },
    {
      "cell_type": "code",
      "metadata": {
        "colab": {
          "base_uri": "https://localhost:8080/"
        },
        "id": "aNmNqmqSr2KX",
        "outputId": "2ca4dfdb-91ca-47c0-dae5-27890b8e77e9"
      },
      "source": [
        "random_name = list(permutations(pd.concat([dataC['Nombre1'],dataC['Nombre2']]),2))\n",
        "random_surname = list(permutations(pd.concat([dataC['Apellido1'],dataC['Apellido2']]),2))\n",
        "array_c = [[nombre[0],nombre[1],apellido[0],apellido[1]] for nombre in random_name for apellido in random_surname]\n",
        "df_section_C = pd.DataFrame(data= array_c, columns=['Nombre1','Nombre2','Apellido1','Apellido2'])\n",
        "df_section_C['id']= uuid.uuid4().__str__()\n",
        "df_section_C['clase'] = 'c'\n",
        "df_section_C.set_index('id',inplace = False)\n",
        "df_section_C.info()"
      ],
      "execution_count": 13,
      "outputs": [
        {
          "output_type": "stream",
          "name": "stdout",
          "text": [
            "<class 'pandas.core.frame.DataFrame'>\n",
            "RangeIndex: 17424 entries, 0 to 17423\n",
            "Data columns (total 6 columns):\n",
            " #   Column     Non-Null Count  Dtype \n",
            "---  ------     --------------  ----- \n",
            " 0   Nombre1    17424 non-null  object\n",
            " 1   Nombre2    17424 non-null  object\n",
            " 2   Apellido1  17424 non-null  object\n",
            " 3   Apellido2  17424 non-null  object\n",
            " 4   id         17424 non-null  object\n",
            " 5   clase      17424 non-null  object\n",
            "dtypes: object(6)\n",
            "memory usage: 816.9+ KB\n"
          ]
        }
      ]
    },
    {
      "cell_type": "markdown",
      "metadata": {
        "id": "l0LVRX6qX8MM"
      },
      "source": [
        "###Concatenamos las tres tablas de datos"
      ]
    },
    {
      "cell_type": "code",
      "metadata": {
        "colab": {
          "base_uri": "https://localhost:8080/"
        },
        "id": "jdGLABl5s1d2",
        "outputId": "7c71639b-5384-427e-f03e-7fdaf7cdb093"
      },
      "source": [
        "df=pd.concat([df_section_A,df_section_B,df_section_C],axis=0)\n",
        "df =df.drop_duplicates(subset=['Nombre1','Nombre2','Apellido1','Apellido2'])\n",
        "df =df.drop_duplicates()\n",
        "df.info()\n"
      ],
      "execution_count": 16,
      "outputs": [
        {
          "output_type": "stream",
          "name": "stdout",
          "text": [
            "<class 'pandas.core.frame.DataFrame'>\n",
            "Int64Index: 42948 entries, 0 to 17423\n",
            "Data columns (total 6 columns):\n",
            " #   Column     Non-Null Count  Dtype \n",
            "---  ------     --------------  ----- \n",
            " 0   Nombre1    42948 non-null  object\n",
            " 1   Nombre2    42948 non-null  object\n",
            " 2   Apellido1  42948 non-null  object\n",
            " 3   Apellido2  42948 non-null  object\n",
            " 4   id         42948 non-null  object\n",
            " 5   clase      42948 non-null  object\n",
            "dtypes: object(6)\n",
            "memory usage: 2.3+ MB\n"
          ]
        }
      ]
    },
    {
      "cell_type": "markdown",
      "metadata": {
        "id": "1T4Fu7TrYSQM"
      },
      "source": [
        "###Seleccionamos solo el 75% de la muestra total"
      ]
    },
    {
      "cell_type": "code",
      "metadata": {
        "id": "PvXNvn3Quqit"
      },
      "source": [
        "muestra =df.sample(frac =1, replace =False)\n",
        "muestra = df.sample(frac=0.75, replace=False)\n",
        "muestra= muestra[['id','Nombre1','Nombre2','Apellido1','Apellido2','clase']]\n"
      ],
      "execution_count": 18,
      "outputs": []
    },
    {
      "cell_type": "markdown",
      "metadata": {
        "id": "uHgJ_pTlYcbV"
      },
      "source": [
        "###Mostramos el contenido"
      ]
    },
    {
      "cell_type": "code",
      "metadata": {
        "colab": {
          "base_uri": "https://localhost:8080/",
          "height": 455
        },
        "id": "ITDVT0kmYdEu",
        "outputId": "65db2ddf-303b-40e1-9be7-0d8b45eca9be"
      },
      "source": [
        "muestra.set_index('id')"
      ],
      "execution_count": 19,
      "outputs": [
        {
          "output_type": "execute_result",
          "data": {
            "text/html": [
              "<div>\n",
              "<style scoped>\n",
              "    .dataframe tbody tr th:only-of-type {\n",
              "        vertical-align: middle;\n",
              "    }\n",
              "\n",
              "    .dataframe tbody tr th {\n",
              "        vertical-align: top;\n",
              "    }\n",
              "\n",
              "    .dataframe thead th {\n",
              "        text-align: right;\n",
              "    }\n",
              "</style>\n",
              "<table border=\"1\" class=\"dataframe\">\n",
              "  <thead>\n",
              "    <tr style=\"text-align: right;\">\n",
              "      <th></th>\n",
              "      <th>Nombre1</th>\n",
              "      <th>Nombre2</th>\n",
              "      <th>Apellido1</th>\n",
              "      <th>Apellido2</th>\n",
              "      <th>clase</th>\n",
              "    </tr>\n",
              "    <tr>\n",
              "      <th>id</th>\n",
              "      <th></th>\n",
              "      <th></th>\n",
              "      <th></th>\n",
              "      <th></th>\n",
              "      <th></th>\n",
              "    </tr>\n",
              "  </thead>\n",
              "  <tbody>\n",
              "    <tr>\n",
              "      <th>2a9774a9-8aca-4df8-b81f-15eb8ca28b8e</th>\n",
              "      <td>juan</td>\n",
              "      <td>javier</td>\n",
              "      <td>garvey</td>\n",
              "      <td>warwick</td>\n",
              "      <td>b</td>\n",
              "    </tr>\n",
              "    <tr>\n",
              "      <th>2a9774a9-8aca-4df8-b81f-15eb8ca28b8e</th>\n",
              "      <td>fiorela</td>\n",
              "      <td>juan</td>\n",
              "      <td>warwick</td>\n",
              "      <td>davoren</td>\n",
              "      <td>b</td>\n",
              "    </tr>\n",
              "    <tr>\n",
              "      <th>fea9f58f-ca52-4e3c-a749-e76ffd5eea4e</th>\n",
              "      <td>André</td>\n",
              "      <td>Aidée</td>\n",
              "      <td>cottrill</td>\n",
              "      <td>buckanan</td>\n",
              "      <td>c</td>\n",
              "    </tr>\n",
              "    <tr>\n",
              "      <th>fea9f58f-ca52-4e3c-a749-e76ffd5eea4e</th>\n",
              "      <td>André</td>\n",
              "      <td>Andrés</td>\n",
              "      <td>locke</td>\n",
              "      <td>geldart</td>\n",
              "      <td>c</td>\n",
              "    </tr>\n",
              "    <tr>\n",
              "      <th>2a9774a9-8aca-4df8-b81f-15eb8ca28b8e</th>\n",
              "      <td>beatriz</td>\n",
              "      <td>karol</td>\n",
              "      <td>fane</td>\n",
              "      <td>hipp</td>\n",
              "      <td>b</td>\n",
              "    </tr>\n",
              "    <tr>\n",
              "      <th>...</th>\n",
              "      <td>...</td>\n",
              "      <td>...</td>\n",
              "      <td>...</td>\n",
              "      <td>...</td>\n",
              "      <td>...</td>\n",
              "    </tr>\n",
              "    <tr>\n",
              "      <th>fea9f58f-ca52-4e3c-a749-e76ffd5eea4e</th>\n",
              "      <td>Andrew</td>\n",
              "      <td>Aida</td>\n",
              "      <td>stephenson</td>\n",
              "      <td>cole</td>\n",
              "      <td>c</td>\n",
              "    </tr>\n",
              "    <tr>\n",
              "      <th>e909c3af-0639-4f30-bb1c-aafbf745a9f1</th>\n",
              "      <td>Josue</td>\n",
              "      <td>Marck</td>\n",
              "      <td>dent</td>\n",
              "      <td>gaskell</td>\n",
              "      <td>a</td>\n",
              "    </tr>\n",
              "    <tr>\n",
              "      <th>2a9774a9-8aca-4df8-b81f-15eb8ca28b8e</th>\n",
              "      <td>javier</td>\n",
              "      <td>juan</td>\n",
              "      <td>laing</td>\n",
              "      <td>stacey</td>\n",
              "      <td>b</td>\n",
              "    </tr>\n",
              "    <tr>\n",
              "      <th>e909c3af-0639-4f30-bb1c-aafbf745a9f1</th>\n",
              "      <td>sebastian</td>\n",
              "      <td>Drey</td>\n",
              "      <td>blount</td>\n",
              "      <td>dove</td>\n",
              "      <td>a</td>\n",
              "    </tr>\n",
              "    <tr>\n",
              "      <th>e909c3af-0639-4f30-bb1c-aafbf745a9f1</th>\n",
              "      <td>Josue</td>\n",
              "      <td>Lorena</td>\n",
              "      <td>Ocas</td>\n",
              "      <td>bixby</td>\n",
              "      <td>a</td>\n",
              "    </tr>\n",
              "  </tbody>\n",
              "</table>\n",
              "<p>32211 rows × 5 columns</p>\n",
              "</div>"
            ],
            "text/plain": [
              "                                        Nombre1 Nombre2  ... Apellido2 clase\n",
              "id                                                       ...                \n",
              "2a9774a9-8aca-4df8-b81f-15eb8ca28b8e       juan  javier  ...   warwick     b\n",
              "2a9774a9-8aca-4df8-b81f-15eb8ca28b8e    fiorela    juan  ...   davoren     b\n",
              "fea9f58f-ca52-4e3c-a749-e76ffd5eea4e      André   Aidée  ...  buckanan     c\n",
              "fea9f58f-ca52-4e3c-a749-e76ffd5eea4e      André  Andrés  ...   geldart     c\n",
              "2a9774a9-8aca-4df8-b81f-15eb8ca28b8e    beatriz   karol  ...      hipp     b\n",
              "...                                         ...     ...  ...       ...   ...\n",
              "fea9f58f-ca52-4e3c-a749-e76ffd5eea4e     Andrew    Aida  ...      cole     c\n",
              "e909c3af-0639-4f30-bb1c-aafbf745a9f1      Josue   Marck  ...   gaskell     a\n",
              "2a9774a9-8aca-4df8-b81f-15eb8ca28b8e     javier    juan  ...    stacey     b\n",
              "e909c3af-0639-4f30-bb1c-aafbf745a9f1  sebastian    Drey  ...      dove     a\n",
              "e909c3af-0639-4f30-bb1c-aafbf745a9f1      Josue  Lorena  ...     bixby     a\n",
              "\n",
              "[32211 rows x 5 columns]"
            ]
          },
          "metadata": {},
          "execution_count": 19
        }
      ]
    },
    {
      "cell_type": "markdown",
      "metadata": {
        "id": "cdAzthsfYiCc"
      },
      "source": [
        "###Mostramos la informacion  de la muestra"
      ]
    },
    {
      "cell_type": "code",
      "metadata": {
        "colab": {
          "base_uri": "https://localhost:8080/"
        },
        "id": "VsxLbckjD7Bu",
        "outputId": "a59f9681-1b5f-4fb5-d9b0-10970ec21a30"
      },
      "source": [
        "muestra.info()"
      ],
      "execution_count": null,
      "outputs": [
        {
          "output_type": "stream",
          "name": "stdout",
          "text": [
            "<class 'pandas.core.frame.DataFrame'>\n",
            "Int64Index: 32211 entries, 16123 to 5346\n",
            "Data columns (total 6 columns):\n",
            " #   Column     Non-Null Count  Dtype \n",
            "---  ------     --------------  ----- \n",
            " 0   id         32211 non-null  object\n",
            " 1   Nombre1    32211 non-null  object\n",
            " 2   Nombre2    32211 non-null  object\n",
            " 3   Apellido1  32211 non-null  object\n",
            " 4   Apellido2  32211 non-null  object\n",
            " 5   clase      32211 non-null  object\n",
            "dtypes: object(6)\n",
            "memory usage: 1.7+ MB\n"
          ]
        }
      ]
    },
    {
      "cell_type": "markdown",
      "metadata": {
        "id": "Pca3wyXAYz5q"
      },
      "source": [
        "###Realizamos un conteo de la nueva muestra y mostramos el contenido de cada tabla inicial"
      ]
    },
    {
      "cell_type": "code",
      "metadata": {
        "colab": {
          "base_uri": "https://localhost:8080/"
        },
        "id": "73IFcVgtyiRS",
        "outputId": "ff54039a-2313-4a86-cf17-bedc86db340f"
      },
      "source": [
        "conta, contb, contc =0,0,0\n",
        "for i in muestra.clase:\n",
        "   if i =='a':\n",
        "     conta =conta+1\n",
        "   elif i== 'b':\n",
        "     contb =contb+1\n",
        "   elif i=='c':\n",
        "     contc = contc+1\n",
        "print(\"El contenido de cada tabla es :\")\n",
        "print(conta, contb, contc)"
      ],
      "execution_count": 20,
      "outputs": [
        {
          "output_type": "stream",
          "name": "stdout",
          "text": [
            "El contenido de cada tabla es :\n",
            "6032 13077 13102\n"
          ]
        }
      ]
    },
    {
      "cell_type": "code",
      "metadata": {
        "colab": {
          "base_uri": "https://localhost:8080/",
          "height": 283
        },
        "id": "lcCR3B2m6J_L",
        "outputId": "59a3ae5a-1725-4fd5-d2bc-cfdbdfd94454"
      },
      "source": [
        "import matplotlib.pyplot as plt\n",
        "print(\"HISTOGRAMA DE LA RELACION DE LOS CONTENIDOS DE CADA TABLA EN LA MUESTRA TOTAL\")\n",
        "fig, ax= plt.subplots()\n",
        "ax.bar(['seccion A', 'Seccion B', 'Seccion C'],[conta, contb,contc])\n",
        "plt.show()"
      ],
      "execution_count": 21,
      "outputs": [
        {
          "output_type": "stream",
          "name": "stdout",
          "text": [
            "HISTOGRAMA DE LA RELACION DE LOS CONTENIDOS DE CADA TABLA EN LA MUESTRA TOTAL\n"
          ]
        },
        {
          "output_type": "display_data",
          "data": {
            "image/png": "[encoded data removed]",
            "text/plain": [
              "<Figure size 432x288 with 1 Axes>"
            ]
          },
          "metadata": {
            "needs_background": "light"
          }
        }
      ]
    },
    {
      "cell_type": "markdown",
      "metadata": {
        "id": "-zP0QF7LphkY"
      },
      "source": [
        "##Concentracion de clases en la muestra final por porcentajes"
      ]
    },
    {
      "cell_type": "code",
      "metadata": {
        "colab": {
          "base_uri": "https://localhost:8080/",
          "height": 319
        },
        "id": "BqfCBZjs6KEh",
        "outputId": "e6944c71-b92f-491e-9c3b-bf4581cefc9b"
      },
      "source": [
        "count = {'totales':[conta, contb, contc]}\n",
        "df = pd.DataFrame(count, columns=['totales'], index =['Seccion A','Seccion B','Seccion C'])\n",
        "df.plot.pie(y='totales',figsize=(5, 5),autopct='%1.1f%%',\n",
        "            title =\"Porcentaje de participacion de las tablas iniciales en la tabla de muestra final\", startangle=90)\n",
        "plt.show()"
      ],
      "execution_count": 23,
      "outputs": [
        {
          "output_type": "display_data",
          "data": {
            "image/png": "[encoded data removed]",
            "text/plain": [
              "<Figure size 360x360 with 1 Axes>"
            ]
          },
          "metadata": {}
        }
      ]
    },
    {
      "cell_type": "markdown",
      "metadata": {
        "id": "d-ok9IlepRCZ"
      },
      "source": [
        "##Indicamos cuantas personas comparten el mismo primer Nombre con personas que tienen el segundo Nombre"
      ]
    },
    {
      "cell_type": "code",
      "metadata": {
        "colab": {
          "base_uri": "https://localhost:8080/"
        },
        "id": "6BZogVMXH0Ci",
        "outputId": "deb6210b-1c10-491a-8784-72cb2cb8b3ba"
      },
      "source": [
        "name =input('Ingrese el nombre a consultar :')\n"
      ],
      "execution_count": 27,
      "outputs": [
        {
          "name": "stdout",
          "output_type": "stream",
          "text": [
            "Ingrese el nombre a consultar :sebastian\n"
          ]
        }
      ]
    },
    {
      "cell_type": "code",
      "metadata": {
        "id": "LplkirkMJyT-"
      },
      "source": [
        "def buscar_nombre(name):\n",
        "  a = muestra.loc[muestra.loc[:,'Nombre1']== name].shape[0]\n",
        "  b = muestra.loc[muestra.loc[:,'Nombre2']== name].shape[0]\n",
        "  cadena = {'Primer nombre':[a],\n",
        "           'Segundo nombre': [b]}\n",
        "\n",
        "  return cadena"
      ],
      "execution_count": 28,
      "outputs": []
    },
    {
      "cell_type": "code",
      "metadata": {
        "colab": {
          "base_uri": "https://localhost:8080/"
        },
        "id": "3y28K8WKLEji",
        "outputId": "49a548d1-ed39-4f65-ccd4-957a35720fd7"
      },
      "source": [
        "buscar_nombre(name)"
      ],
      "execution_count": 29,
      "outputs": [
        {
          "output_type": "execute_result",
          "data": {
            "text/plain": [
              "{'Primer nombre': [607], 'Segundo nombre': [616]}"
            ]
          },
          "metadata": {},
          "execution_count": 29
        }
      ]
    },
    {
      "cell_type": "code",
      "metadata": {
        "colab": {
          "base_uri": "https://localhost:8080/",
          "height": 296
        },
        "id": "7E4pWQNCML14",
        "outputId": "059ab2dc-3ddd-45e8-da53-4b23e8e34e5f"
      },
      "source": [
        "import matplotlib.pyplot as plt\n",
        "relacion = pd.DataFrame(buscar_nombre(name))\n",
        "relacion.plot(x=None ,y=['Primer nombre','Segundo nombre'],kind ='bar', \n",
        "              title =\"Relación entre primer nombre y segundo nombre\")\n",
        "\n"
      ],
      "execution_count": 31,
      "outputs": [
        {
          "output_type": "execute_result",
          "data": {
            "text/plain": [
              "<matplotlib.axes._subplots.AxesSubplot at 0x7fa63eeecf10>"
            ]
          },
          "metadata": {},
          "execution_count": 31
        },
        {
          "output_type": "display_data",
          "data": {
            "image/png": "[encoded data removed]",
            "text/plain": [
              "<Figure size 432x288 with 1 Axes>"
            ]
          },
          "metadata": {
            "needs_background": "light"
          }
        }
      ]
    },
    {
      "cell_type": "code",
      "metadata": {
        "colab": {
          "base_uri": "https://localhost:8080/"
        },
        "id": "foTHRCe2U2MZ",
        "outputId": "5138f8d6-6bb2-40b5-91c3-dca6f6732d5f"
      },
      "source": [
        "surname =input('Ingrese el apelldo a consultar :')"
      ],
      "execution_count": 32,
      "outputs": [
        {
          "name": "stdout",
          "output_type": "stream",
          "text": [
            "Ingrese el apelldo a consultar :Jara\n"
          ]
        }
      ]
    },
    {
      "cell_type": "code",
      "metadata": {
        "id": "LPCYh13DUy2T"
      },
      "source": [
        "def buscar_apellido(surname):\n",
        "  a = muestra.loc[muestra.loc[:,'Apellido1']== surname].shape[0]\n",
        "  b = muestra.loc[muestra.loc[:,'Apellido2']== surname].shape[0]\n",
        "  cadena_surname = {'Primer Apellido':[a],\n",
        "           'Segundo Apellido': [b]}\n",
        "\n",
        "  return cadena_surname"
      ],
      "execution_count": 33,
      "outputs": []
    },
    {
      "cell_type": "code",
      "metadata": {
        "colab": {
          "base_uri": "https://localhost:8080/",
          "height": 296
        },
        "id": "UBszrT07VaPF",
        "outputId": "6eb5426e-32e6-4f87-cdf2-ad6de97f3ae7"
      },
      "source": [
        "import matplotlib.pyplot as plt\n",
        "relacion_surname = pd.DataFrame(buscar_apellido(surname))\n",
        "relacion_surname.plot(x=None ,y=['Primer Apellido','Segundo Apellido'],kind ='bar', \n",
        "              title =\"Relación entre primer Apellido y segundo Apellido\")"
      ],
      "execution_count": 34,
      "outputs": [
        {
          "output_type": "execute_result",
          "data": {
            "text/plain": [
              "<matplotlib.axes._subplots.AxesSubplot at 0x7fa63eedb2d0>"
            ]
          },
          "metadata": {},
          "execution_count": 34
        },
        {
          "output_type": "display_data",
          "data": {
            "image/png": "[encoded data removed]",
            "text/plain": [
              "<Figure size 432x288 with 1 Axes>"
            ]
          },
          "metadata": {
            "needs_background": "light"
          }
        }
      ]
    },
    {
      "cell_type": "code",
      "metadata": {
        "id": "5Wa26q8gYWb7"
      },
      "source": [
        "#Buscar por nombre y apellido\n",
        "\n",
        "def buscar(surname_name):\n",
        "  a = muestra.loc[muestra.loc[:,'Nombre1']== surname_name[0]]\n",
        "  b = a.loc[a.loc[:,'Apellido1']== surname_name[1]]\n",
        "  return b"
      ],
      "execution_count": 35,
      "outputs": []
    },
    {
      "cell_type": "markdown",
      "metadata": {
        "id": "TX16BXgNawbd"
      },
      "source": [
        "##Finalidad 2:En esta seccion se muestra los resultados de busquedas ingresado por PRIMER Nombre y PRIMER Apellido"
      ]
    },
    {
      "cell_type": "code",
      "metadata": {
        "colab": {
          "base_uri": "https://localhost:8080/",
          "height": 261
        },
        "id": "jEZgKlJMYueH",
        "outputId": "88ecae2e-d0b1-419f-9117-eba3b585d046"
      },
      "source": [
        "nombre =input('Ingrese su primer nombre: ')\n",
        "apellido =input('Ingrese el segundo apellido :')  \n",
        "surname_name =[nombre,apellido]\n",
        "print('Se encontraron '+str(buscar(surname_name).shape[0])+' coincidencias')\n",
        "buscar(surname_name).head()\n"
      ],
      "execution_count": 36,
      "outputs": [
        {
          "output_type": "stream",
          "name": "stdout",
          "text": [
            "Ingrese su primer nombre: sebastian\n",
            "Ingrese el segundo apellido :Jara\n",
            "Se encontraron 68 coincidencias\n"
          ]
        },
        {
          "output_type": "execute_result",
          "data": {
            "text/html": [
              "<div>\n",
              "<style scoped>\n",
              "    .dataframe tbody tr th:only-of-type {\n",
              "        vertical-align: middle;\n",
              "    }\n",
              "\n",
              "    .dataframe tbody tr th {\n",
              "        vertical-align: top;\n",
              "    }\n",
              "\n",
              "    .dataframe thead th {\n",
              "        text-align: right;\n",
              "    }\n",
              "</style>\n",
              "<table border=\"1\" class=\"dataframe\">\n",
              "  <thead>\n",
              "    <tr style=\"text-align: right;\">\n",
              "      <th></th>\n",
              "      <th>id</th>\n",
              "      <th>Nombre1</th>\n",
              "      <th>Nombre2</th>\n",
              "      <th>Apellido1</th>\n",
              "      <th>Apellido2</th>\n",
              "      <th>clase</th>\n",
              "    </tr>\n",
              "  </thead>\n",
              "  <tbody>\n",
              "    <tr>\n",
              "      <th>4897</th>\n",
              "      <td>e909c3af-0639-4f30-bb1c-aafbf745a9f1</td>\n",
              "      <td>sebastian</td>\n",
              "      <td>Maria</td>\n",
              "      <td>Jara</td>\n",
              "      <td>blount</td>\n",
              "      <td>a</td>\n",
              "    </tr>\n",
              "    <tr>\n",
              "      <th>5351</th>\n",
              "      <td>e909c3af-0639-4f30-bb1c-aafbf745a9f1</td>\n",
              "      <td>sebastian</td>\n",
              "      <td>Ali</td>\n",
              "      <td>Jara</td>\n",
              "      <td>dent</td>\n",
              "      <td>a</td>\n",
              "    </tr>\n",
              "    <tr>\n",
              "      <th>5169</th>\n",
              "      <td>e909c3af-0639-4f30-bb1c-aafbf745a9f1</td>\n",
              "      <td>sebastian</td>\n",
              "      <td>Mario</td>\n",
              "      <td>Jara</td>\n",
              "      <td>dove</td>\n",
              "      <td>a</td>\n",
              "    </tr>\n",
              "    <tr>\n",
              "      <th>5443</th>\n",
              "      <td>e909c3af-0639-4f30-bb1c-aafbf745a9f1</td>\n",
              "      <td>sebastian</td>\n",
              "      <td>pedro</td>\n",
              "      <td>Jara</td>\n",
              "      <td>keswick</td>\n",
              "      <td>a</td>\n",
              "    </tr>\n",
              "    <tr>\n",
              "      <th>5167</th>\n",
              "      <td>e909c3af-0639-4f30-bb1c-aafbf745a9f1</td>\n",
              "      <td>sebastian</td>\n",
              "      <td>Mario</td>\n",
              "      <td>Jara</td>\n",
              "      <td>blount</td>\n",
              "      <td>a</td>\n",
              "    </tr>\n",
              "  </tbody>\n",
              "</table>\n",
              "</div>"
            ],
            "text/plain": [
              "                                        id    Nombre1  ... Apellido2 clase\n",
              "4897  e909c3af-0639-4f30-bb1c-aafbf745a9f1  sebastian  ...    blount     a\n",
              "5351  e909c3af-0639-4f30-bb1c-aafbf745a9f1  sebastian  ...      dent     a\n",
              "5169  e909c3af-0639-4f30-bb1c-aafbf745a9f1  sebastian  ...      dove     a\n",
              "5443  e909c3af-0639-4f30-bb1c-aafbf745a9f1  sebastian  ...   keswick     a\n",
              "5167  e909c3af-0639-4f30-bb1c-aafbf745a9f1  sebastian  ...    blount     a\n",
              "\n",
              "[5 rows x 6 columns]"
            ]
          },
          "metadata": {},
          "execution_count": 36
        }
      ]
    },
    {
      "cell_type": "code",
      "metadata": {
        "colab": {
          "base_uri": "https://localhost:8080/"
        },
        "id": "fxJ37M-8hvGw",
        "outputId": "b9a0cbb9-3150-4d5c-b4f9-2d8babfcfab7"
      },
      "source": [
        "print(tuple(muestra_graficos['Apellido1']))"
      ],
      "execution_count": 63,
      "outputs": [
        {
          "output_type": "stream",
          "name": "stdout",
          "text": [
            "(' davoren', 'Jara', 'Ocas', 'bixby', 'bleasdell', 'blount', 'buckanan', 'cole', 'conley', 'cottrill', 'dent', 'dove', 'fane', 'gabriel', 'garvey', 'gaskell', 'geldart', 'hands', 'hipp', 'keswick', 'kirkwood', 'laing', 'locke', 'mckitrick', 'nordyke', 'park', 'stacey', 'stephenson', 'stevanson', 'warwick', 'wetherill')\n"
          ]
        }
      ]
    },
    {
      "cell_type": "code",
      "metadata": {
        "colab": {
          "base_uri": "https://localhost:8080/"
        },
        "id": "IcxTunWkh40u",
        "outputId": "bca88eed-665c-4a42-f3c3-8db21ff63f4f"
      },
      "source": [
        "labels = (\"A\", \"B\", \"C\", \"D\", \"E\", \"F\", \"G\", \"H\", \"I\", \"J\", \"K\", \"L\", \"M\")\n",
        "type(labels)"
      ],
      "execution_count": 60,
      "outputs": [
        {
          "output_type": "execute_result",
          "data": {
            "text/plain": [
              "tuple"
            ]
          },
          "metadata": {},
          "execution_count": 60
        }
      ]
    },
    {
      "cell_type": "markdown",
      "metadata": {
        "id": "TMVySUQhbHI9"
      },
      "source": [
        "##Finalidad 3: Realizamos un conteo de los apellidos mas comunes y mostramos en una grafica"
      ]
    },
    {
      "cell_type": "code",
      "metadata": {
        "colab": {
          "base_uri": "https://localhost:8080/",
          "height": 368
        },
        "id": "Dh71HbNjiiH-",
        "outputId": "58eadcae-8c11-4e73-8290-0519a6e4777d"
      },
      "source": [
        "\n",
        "muestra_graficos =muestra.groupby(by='Apellido1', as_index=False).nunique()\n",
        "muestra_graficos.plot.bar(x = 'Apellido1', \n",
        "                          stacked=True,figsize=(25, 5),\n",
        "                          title =\"Frecuencia que aparece nombres y segundo apellido si agrupo por el primer apellido\",\n",
        "                          rot=0)"
      ],
      "execution_count": 81,
      "outputs": [
        {
          "output_type": "execute_result",
          "data": {
            "text/plain": [
              "<matplotlib.axes._subplots.AxesSubplot at 0x7fa63383d350>"
            ]
          },
          "metadata": {},
          "execution_count": 81
        },
        {
          "output_type": "display_data",
          "data": {
            "image/png": "[encoded data removed]",
            "text/plain": [
              "<Figure size 1800x360 with 1 Axes>"
            ]
          },
          "metadata": {
            "needs_background": "light"
          }
        }
      ]
    },
    {
      "cell_type": "code",
      "metadata": {
        "colab": {
          "base_uri": "https://localhost:8080/",
          "height": 368
        },
        "id": "79kKXK2Xm4h4",
        "outputId": "3e9475af-618f-4ee3-f2c6-1f72a20c63f9"
      },
      "source": [
        "\n",
        "muestra_graficos =muestra.groupby(by='Apellido1', as_index=False).nunique()\n",
        "muestra_graficos.plot.bar(x = 'Apellido1', \n",
        "                          figsize=(25, 5),\n",
        "                          title =\"Frecuencia que aparece nombres y segundo apellido si agrupo por el primer apellido\",\n",
        "                          rot=0)"
      ],
      "execution_count": 82,
      "outputs": [
        {
          "output_type": "execute_result",
          "data": {
            "text/plain": [
              "<matplotlib.axes._subplots.AxesSubplot at 0x7fa6335e3d10>"
            ]
          },
          "metadata": {},
          "execution_count": 82
        },
        {
          "output_type": "display_data",
          "data": {
            "image/png": "[encoded data removed]",
            "text/plain": [
              "<Figure size 1800x360 with 1 Axes>"
            ]
          },
          "metadata": {
            "needs_background": "light"
          }
        }
      ]
    },
    {
      "cell_type": "code",
      "metadata": {
        "id": "DB7taA2UkIGQ"
      },
      "source": [
        ""
      ],
      "execution_count": 82,
      "outputs": []
    }
  ]
}